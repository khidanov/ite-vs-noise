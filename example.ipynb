{
 "cells": [
  {
   "cell_type": "code",
   "execution_count": 1,
   "id": "8318272c-b125-43d2-aa02-5790cd99d88a",
   "metadata": {
    "tags": []
   },
   "outputs": [
    {
     "data": {
      "text/plain": [
       "dmrg_correlation_function (generic function with 1 method)"
      ]
     },
     "execution_count": 1,
     "metadata": {},
     "output_type": "execute_result"
    }
   ],
   "source": [
    "using ITensors\n",
    "using Serialization\n",
    "\n",
    "include(\"dmrg/dmrg_functions.jl\")"
   ]
  },
  {
   "cell_type": "code",
   "execution_count": 2,
   "id": "b7aed8fd-cd15-424e-a6c2-64b2a487ba09",
   "metadata": {
    "tags": []
   },
   "outputs": [
    {
     "data": {
      "text/plain": [
       "30"
      ]
     },
     "execution_count": 2,
     "metadata": {},
     "output_type": "execute_result"
    }
   ],
   "source": [
    "N=100\n",
    "interaction_sign=\"FM\"\n",
    "lamX=0.1\n",
    "lamY=0.0\n",
    "lamZ=0.0\n",
    "lamXX=0.0\n",
    "lamYY=0.0\n",
    "lamZZ=0.0\n",
    "lamAD=0.0\n",
    "nsweeps=10\n",
    "maxdim=[10,20,100,100,200]\n",
    "cutoff=[1E-10]\n",
    "psi0_bonddim=30"
   ]
  },
  {
   "cell_type": "markdown",
   "id": "29ee2116-06e5-4c69-992f-5bdf79109e5e",
   "metadata": {},
   "source": [
    "### Binder cumulant and energy"
   ]
  },
  {
   "cell_type": "code",
   "execution_count": 3,
   "id": "4963f3e2-7d62-4bbf-8064-808de1449fdf",
   "metadata": {
    "tags": []
   },
   "outputs": [
    {
     "data": {
      "text/plain": [
       "4-element Vector{Tuple{Float64, Float64}}:\n",
       " (0.9977097384304554, -98.33966708199965)\n",
       " (0.9617284143533753, -116.71942006443177)\n",
       " (0.1277146427223812, -144.78943605769877)\n",
       " (0.050121763125166474, -216.85240139242683)"
      ]
     },
     "execution_count": 3,
     "metadata": {},
     "output_type": "execute_result"
    }
   ],
   "source": [
    "#the first value is Binder cumulant, the second one is energy\n",
    "\n",
    "[dmrg_binder(\n",
    "    N,\n",
    "    interaction_sign,\n",
    "    g,\n",
    "    lamX,\n",
    "    lamY,\n",
    "    lamZ,\n",
    "    lamXX,\n",
    "    lamYY,\n",
    "    lamZZ,\n",
    "    lamAD,\n",
    "    nsweeps,\n",
    "    maxdim,\n",
    "    cutoff,\n",
    "    psi0_bonddim\n",
    ") for g in [0.1,0.8,1.2,2.0] ]"
   ]
  },
  {
   "cell_type": "markdown",
   "id": "d45384ac-0940-4c42-b95a-6c9e2b5fdd33",
   "metadata": {
    "tags": []
   },
   "source": [
    "### Fidelity"
   ]
  },
  {
   "cell_type": "code",
   "execution_count": 5,
   "id": "d1a5d18c-4987-47a3-885a-9f4cf8417bea",
   "metadata": {
    "tags": []
   },
   "outputs": [
    {
     "name": "stderr",
     "output_type": "stream",
     "text": [
      "\u001b[33m\u001b[1m┌ \u001b[22m\u001b[39m\u001b[33m\u001b[1mWarning: \u001b[22m\u001b[39mCalling `inner(x::MPS, A::MPO, y::MPS)` where the site indices of the `MPS`\n",
      "\u001b[33m\u001b[1m│ \u001b[22m\u001b[39m`x` and the `MPS` resulting from contracting `MPO` `A` with `MPS` `y` don't\n",
      "\u001b[33m\u001b[1m│ \u001b[22m\u001b[39mmatch is deprecated as of ITensors v0.3 and will result in an error in ITensors\n",
      "\u001b[33m\u001b[1m│ \u001b[22m\u001b[39mv0.4. The most common cause of this is something like the following:\n",
      "\u001b[33m\u001b[1m│ \u001b[22m\u001b[39m\n",
      "\u001b[33m\u001b[1m│ \u001b[22m\u001b[39m```julia\n",
      "\u001b[33m\u001b[1m│ \u001b[22m\u001b[39ms = siteinds(\"S=1/2\")\n",
      "\u001b[33m\u001b[1m│ \u001b[22m\u001b[39mpsi = randomMPS(s)\n",
      "\u001b[33m\u001b[1m│ \u001b[22m\u001b[39mH = MPO(s, \"Id\")\n",
      "\u001b[33m\u001b[1m│ \u001b[22m\u001b[39minner(psi, H, psi)\n",
      "\u001b[33m\u001b[1m│ \u001b[22m\u001b[39m```\n",
      "\u001b[33m\u001b[1m│ \u001b[22m\u001b[39m\n",
      "\u001b[33m\u001b[1m│ \u001b[22m\u001b[39m`psi` has the Index structure `-s-(psi)` and `H` has the Index structure\n",
      "\u001b[33m\u001b[1m│ \u001b[22m\u001b[39m`-s'-(H)-s-`, so the Index structure of would be `(dag(psi)-s- -s'-(H)-s-(psi)`\n",
      "\u001b[33m\u001b[1m│ \u001b[22m\u001b[39m unless the prime levels were fixed. Previously we tried fixing the prime level\n",
      "\u001b[33m\u001b[1m│ \u001b[22m\u001b[39m  in situations like this, but we will no longer be doing that going forward.\n",
      "\u001b[33m\u001b[1m│ \u001b[22m\u001b[39m\n",
      "\u001b[33m\u001b[1m│ \u001b[22m\u001b[39mThere are a few ways to fix this. You can simply change:\n",
      "\u001b[33m\u001b[1m│ \u001b[22m\u001b[39m\n",
      "\u001b[33m\u001b[1m│ \u001b[22m\u001b[39m```julia\n",
      "\u001b[33m\u001b[1m│ \u001b[22m\u001b[39minner(psi, H, psi)\n",
      "\u001b[33m\u001b[1m│ \u001b[22m\u001b[39m```\n",
      "\u001b[33m\u001b[1m│ \u001b[22m\u001b[39m\n",
      "\u001b[33m\u001b[1m│ \u001b[22m\u001b[39mto:\n",
      "\u001b[33m\u001b[1m│ \u001b[22m\u001b[39m\n",
      "\u001b[33m\u001b[1m│ \u001b[22m\u001b[39m```julia\n",
      "\u001b[33m\u001b[1m│ \u001b[22m\u001b[39minner(psi', H, psi)\n",
      "\u001b[33m\u001b[1m│ \u001b[22m\u001b[39m```\n",
      "\u001b[33m\u001b[1m│ \u001b[22m\u001b[39m\n",
      "\u001b[33m\u001b[1m│ \u001b[22m\u001b[39min which case the Index structure will be `(dag(psi)-s'-(H)-s-(psi)`.\n",
      "\u001b[33m\u001b[1m│ \u001b[22m\u001b[39m\n",
      "\u001b[33m\u001b[1m│ \u001b[22m\u001b[39mAlternatively, you can use the `Apply` function:\n",
      "\u001b[33m\u001b[1m│ \u001b[22m\u001b[39m\n",
      "\u001b[33m\u001b[1m│ \u001b[22m\u001b[39m```julia\n",
      "\u001b[33m\u001b[1m│ \u001b[22m\u001b[39m\n",
      "\u001b[33m\u001b[1m│ \u001b[22m\u001b[39minner(psi, Apply(H, psi))\n",
      "\u001b[33m\u001b[1m│ \u001b[22m\u001b[39m```\n",
      "\u001b[33m\u001b[1m│ \u001b[22m\u001b[39m\n",
      "\u001b[33m\u001b[1m│ \u001b[22m\u001b[39mIn this case, `Apply(H, psi)` represents the \"lazy\" evaluation of\n",
      "\u001b[33m\u001b[1m│ \u001b[22m\u001b[39m`apply(H, psi)`. The function `apply(H, psi)` performs the contraction of\n",
      "\u001b[33m\u001b[1m│ \u001b[22m\u001b[39m`H` with `psi` and then unprimes the results, so this versions ensures that\n",
      "\u001b[33m\u001b[1m│ \u001b[22m\u001b[39mthe prime levels of the inner product will match.\n",
      "\u001b[33m\u001b[1m│ \u001b[22m\u001b[39m\n",
      "\u001b[33m\u001b[1m│ \u001b[22m\u001b[39mAlthough the new behavior seems less convenient, it makes it easier to\n",
      "\u001b[33m\u001b[1m│ \u001b[22m\u001b[39mgeneralize `inner(::MPS, ::MPO, ::MPS)` to other types of inputs, like `MPS`\n",
      "\u001b[33m\u001b[1m│ \u001b[22m\u001b[39mand `MPO` with different tag and prime conventions, multiple sites per tensor,\n",
      "\u001b[33m\u001b[1m│ \u001b[22m\u001b[39m`ITensor` inputs, etc.\n",
      "\u001b[33m\u001b[1m│ \u001b[22m\u001b[39m\n",
      "\u001b[33m\u001b[1m│ \u001b[22m\u001b[39mStacktrace:\n",
      "\u001b[33m\u001b[1m│ \u001b[22m\u001b[39m  [1] backtrace()\n",
      "\u001b[33m\u001b[1m│ \u001b[22m\u001b[39m    @ Base ./error.jl:114\n",
      "\u001b[33m\u001b[1m│ \u001b[22m\u001b[39m  [2] warn_once(msg::String, funcsym::Symbol; force::Bool, stacktrace::Bool)\n",
      "\u001b[33m\u001b[1m│ \u001b[22m\u001b[39m    @ ITensors ~/.julia/packages/ITensors/WMeVS/src/utils.jl:8\n",
      "\u001b[33m\u001b[1m│ \u001b[22m\u001b[39m  [3] warn_once\n",
      "\u001b[33m\u001b[1m│ \u001b[22m\u001b[39m    @ ~/.julia/packages/ITensors/WMeVS/src/utils.jl:5 [inlined]\n",
      "\u001b[33m\u001b[1m│ \u001b[22m\u001b[39m  [4] deprecate_make_inds_match!(::typeof(ITensors._log_or_not_dot), M1dag::MPS, M2::MPS, loginner::Bool; make_inds_match::Bool)\n",
      "\u001b[33m\u001b[1m│ \u001b[22m\u001b[39m    @ ITensors ~/.julia/packages/ITensors/WMeVS/src/mps/abstractmps.jl:1079\n",
      "\u001b[33m\u001b[1m│ \u001b[22m\u001b[39m  [5] deprecate_make_inds_match!\n",
      "\u001b[33m\u001b[1m│ \u001b[22m\u001b[39m    @ ~/.julia/packages/ITensors/WMeVS/src/mps/abstractmps.jl:1044 [inlined]\n",
      "\u001b[33m\u001b[1m│ \u001b[22m\u001b[39m  [6] _log_or_not_dot(M1::MPS, M2::MPS, loginner::Bool; make_inds_match::Bool)\n",
      "\u001b[33m\u001b[1m│ \u001b[22m\u001b[39m    @ ITensors ~/.julia/packages/ITensors/WMeVS/src/mps/abstractmps.jl:1094\n",
      "\u001b[33m\u001b[1m│ \u001b[22m\u001b[39m  [7] _log_or_not_dot\n",
      "\u001b[33m\u001b[1m│ \u001b[22m\u001b[39m    @ ~/.julia/packages/ITensors/WMeVS/src/mps/abstractmps.jl:1085 [inlined]\n",
      "\u001b[33m\u001b[1m│ \u001b[22m\u001b[39m  [8] #dot#697\n",
      "\u001b[33m\u001b[1m│ \u001b[22m\u001b[39m    @ ~/.julia/packages/ITensors/WMeVS/src/mps/abstractmps.jl:1145 [inlined]\n",
      "\u001b[33m\u001b[1m│ \u001b[22m\u001b[39m  [9] dot\n",
      "\u001b[33m\u001b[1m│ \u001b[22m\u001b[39m    @ ~/.julia/packages/ITensors/WMeVS/src/mps/abstractmps.jl:1144 [inlined]\n",
      "\u001b[33m\u001b[1m│ \u001b[22m\u001b[39m [10] inner(M1::MPS, M2::MPS)\n",
      "\u001b[33m\u001b[1m│ \u001b[22m\u001b[39m    @ ITensors ~/.julia/packages/ITensors/WMeVS/src/mps/abstractmps.jl:1187\n",
      "\u001b[33m\u001b[1m│ \u001b[22m\u001b[39m [11] dmrg_fidelity(N::Int64, interaction_sign::String, g::Float64, lamX::Float64, lamY::Float64, lamZ::Float64, lamXX::Float64, lamYY::Float64, lamZZ::Float64, lamAD::Float64, lamSBends::Float64, nsweeps::Int64, maxdim::Vector{Int64}, cutoff::Vector{Float64}, psi0_bonddim::Int64)\n",
      "\u001b[33m\u001b[1m│ \u001b[22m\u001b[39m    @ Main ~/Documents/GitHub/ite-vs-noise/dmrg/dmrg_functions.jl:424\n",
      "\u001b[33m\u001b[1m│ \u001b[22m\u001b[39m [12] (::var\"#3#4\")(g::Float64)\n",
      "\u001b[33m\u001b[1m│ \u001b[22m\u001b[39m    @ Main ./none:0\n",
      "\u001b[33m\u001b[1m│ \u001b[22m\u001b[39m [13] iterate\n",
      "\u001b[33m\u001b[1m│ \u001b[22m\u001b[39m    @ ./generator.jl:47 [inlined]\n",
      "\u001b[33m\u001b[1m│ \u001b[22m\u001b[39m [14] collect(itr::Base.Generator{Vector{Float64}, var\"#3#4\"})\n",
      "\u001b[33m\u001b[1m│ \u001b[22m\u001b[39m    @ Base ./array.jl:834\n",
      "\u001b[33m\u001b[1m│ \u001b[22m\u001b[39m [15] top-level scope\n",
      "\u001b[33m\u001b[1m│ \u001b[22m\u001b[39m    @ In[5]:3\n",
      "\u001b[33m\u001b[1m│ \u001b[22m\u001b[39m [16] eval\n",
      "\u001b[33m\u001b[1m│ \u001b[22m\u001b[39m    @ ./boot.jl:385 [inlined]\n",
      "\u001b[33m\u001b[1m│ \u001b[22m\u001b[39m [17] include_string(mapexpr::typeof(REPL.softscope), mod::Module, code::String, filename::String)\n",
      "\u001b[33m\u001b[1m│ \u001b[22m\u001b[39m    @ Base ./loading.jl:2076\n",
      "\u001b[33m\u001b[1m│ \u001b[22m\u001b[39m [18] softscope_include_string(m::Module, code::String, filename::String)\n",
      "\u001b[33m\u001b[1m│ \u001b[22m\u001b[39m    @ SoftGlobalScope ~/.julia/packages/SoftGlobalScope/u4UzH/src/SoftGlobalScope.jl:65\n",
      "\u001b[33m\u001b[1m│ \u001b[22m\u001b[39m [19] execute_request(socket::ZMQ.Socket, msg::IJulia.Msg)\n",
      "\u001b[33m\u001b[1m│ \u001b[22m\u001b[39m    @ IJulia ~/.julia/packages/IJulia/Vo51o/src/execute_request.jl:67\n",
      "\u001b[33m\u001b[1m│ \u001b[22m\u001b[39m [20] #invokelatest#2\n",
      "\u001b[33m\u001b[1m│ \u001b[22m\u001b[39m    @ ./essentials.jl:892 [inlined]\n",
      "\u001b[33m\u001b[1m│ \u001b[22m\u001b[39m [21] invokelatest\n",
      "\u001b[33m\u001b[1m│ \u001b[22m\u001b[39m    @ ./essentials.jl:889 [inlined]\n",
      "\u001b[33m\u001b[1m│ \u001b[22m\u001b[39m [22] eventloop(socket::ZMQ.Socket)\n",
      "\u001b[33m\u001b[1m│ \u001b[22m\u001b[39m    @ IJulia ~/.julia/packages/IJulia/Vo51o/src/eventloop.jl:8\n",
      "\u001b[33m\u001b[1m│ \u001b[22m\u001b[39m [23] (::IJulia.var\"#15#18\")()\n",
      "\u001b[33m\u001b[1m│ \u001b[22m\u001b[39m    @ IJulia ~/.julia/packages/IJulia/Vo51o/src/eventloop.jl:38\n",
      "\u001b[33m\u001b[1m│ \u001b[22m\u001b[39m  caller = ip:0x0\n",
      "\u001b[33m\u001b[1m└ \u001b[22m\u001b[39m\u001b[90m@ Core :-1\u001b[39m\n"
     ]
    },
    {
     "data": {
      "text/plain": [
       "4-element Vector{Float64}:\n",
       " 0.9955369555892508\n",
       " 0.8812943356165415\n",
       " 0.9765493339363887\n",
       " 0.997982076533102"
      ]
     },
     "execution_count": 5,
     "metadata": {},
     "output_type": "execute_result"
    }
   ],
   "source": [
    "# the warning does not cause problems here, but might do so in ITensors v0.4 and newer\n",
    "\n",
    "lamSBends=0.01\n",
    "\n",
    "[dmrg_fidelity(\n",
    "    N,\n",
    "    interaction_sign,\n",
    "    g,\n",
    "    lamX,\n",
    "    lamY,\n",
    "    lamZ,\n",
    "    lamXX,\n",
    "    lamYY,\n",
    "    lamZZ,\n",
    "    lamAD,\n",
    "    lamSBends,\n",
    "    nsweeps,\n",
    "    maxdim,\n",
    "    cutoff,\n",
    "    psi0_bonddim\n",
    ") for g in [0.1,0.8,1.2,2.0] ]"
   ]
  },
  {
   "cell_type": "markdown",
   "id": "6b64323f-04f1-40d5-97e9-ea73e62908e9",
   "metadata": {},
   "source": [
    "### Gap"
   ]
  },
  {
   "cell_type": "code",
   "execution_count": 6,
   "id": "fb79dc84-c6d0-4aa9-9371-e939c7316d67",
   "metadata": {
    "tags": []
   },
   "outputs": [
    {
     "data": {
      "text/plain": [
       "4-element Vector{Float64}:\n",
       " 0.999999999715115\n",
       " 0.33123108817906655\n",
       " 0.577929849413664\n",
       " 0.9999999467390239"
      ]
     },
     "execution_count": 6,
     "metadata": {},
     "output_type": "execute_result"
    }
   ],
   "source": [
    "weight=1.0\n",
    "\n",
    "[dmrg_gap(\n",
    "    N,\n",
    "    interaction_sign,\n",
    "    g,\n",
    "    lamX,\n",
    "    lamY,\n",
    "    lamZ,\n",
    "    lamXX,\n",
    "    lamYY,\n",
    "    lamZZ,\n",
    "    lamAD,\n",
    "    nsweeps,\n",
    "    maxdim,\n",
    "    cutoff,\n",
    "    psi0_bonddim,\n",
    "    weight\n",
    ") for g in [0.1,0.8,1.2,2.0] ]"
   ]
  },
  {
   "cell_type": "markdown",
   "id": "167e666b-099e-4a60-a8c2-75bd8a10d6a4",
   "metadata": {},
   "source": [
    "### Correlation function"
   ]
  },
  {
   "cell_type": "code",
   "execution_count": 8,
   "id": "e38facc7-69e2-4870-9e8b-80614e1dcd36",
   "metadata": {
    "collapsed": true,
    "jupyter": {
     "outputs_hidden": true
    },
    "tags": []
   },
   "outputs": [
    {
     "ename": "LoadError",
     "evalue": "InterruptException:",
     "output_type": "error",
     "traceback": [
      "InterruptException:",
      "",
      "Stacktrace:",
      "  [1] dag(as::NDTensors.AllowAlias, T::ITensor)",
      "    @ ITensors ~/.julia/packages/ITensors/WMeVS/src/itensor.jl:1808",
      "  [2] #dag#218",
      "    @ ~/.julia/packages/ITensors/WMeVS/src/itensor.jl:1834 [inlined]",
      "  [3] dag",
      "    @ ~/.julia/packages/ITensors/WMeVS/src/itensor.jl:1823 [inlined]",
      "  [4] dot(A::ITensor, B::ITensor)",
      "    @ ITensors ~/.julia/packages/ITensors/WMeVS/src/itensor.jl:1905",
      "  [5] _orthogonalize!(v::ITensor, q::ITensor, alg::KrylovKit.ModifiedGramSchmidt)",
      "    @ KrylovKit ~/.julia/packages/KrylovKit/r8GLV/src/orthonormal.jl:474",
      "  [6] orthogonalize!",
      "    @ ~/.julia/packages/KrylovKit/r8GLV/src/orthonormal.jl:468 [inlined]",
      "  [7] lanczosrecurrence(operator::ProjMPO, V::KrylovKit.OrthonormalBasis{ITensor}, β::Float64, orth::KrylovKit.ModifiedGramSchmidt2)",
      "    @ KrylovKit ~/.julia/packages/KrylovKit/r8GLV/src/factorizations/lanczos.jl:321",
      "  [8] expand!(iter::KrylovKit.LanczosIterator{ProjMPO, ITensor, KrylovKit.ModifiedGramSchmidt2}, state::KrylovKit.LanczosFactorization{ITensor, Float64}; verbosity::Int64)",
      "    @ KrylovKit ~/.julia/packages/KrylovKit/r8GLV/src/factorizations/lanczos.jl:248",
      "  [9] eigsolve(A::ProjMPO, x₀::ITensor, howmany::Int64, which::Symbol, alg::KrylovKit.Lanczos{KrylovKit.ModifiedGramSchmidt2, Float64})",
      "    @ KrylovKit ~/.julia/packages/KrylovKit/r8GLV/src/eigsolve/lanczos.jl:76",
      " [10] #eigsolve#38",
      "    @ ~/.julia/packages/KrylovKit/r8GLV/src/eigsolve/eigsolve.jl:200 [inlined]",
      " [11] eigsolve",
      "    @ ~/.julia/packages/KrylovKit/r8GLV/src/eigsolve/eigsolve.jl:182 [inlined]",
      " [12] macro expansion",
      "    @ ~/.julia/packages/ITensors/WMeVS/src/mps/dmrg.jl:237 [inlined]",
      " [13] macro expansion",
      "    @ ~/.julia/packages/TimerOutputs/RsWnF/src/TimerOutput.jl:253 [inlined]",
      " [14] macro expansion",
      "    @ ~/.julia/packages/ITensors/WMeVS/src/mps/dmrg.jl:236 [inlined]",
      " [15] macro expansion",
      "    @ ./timing.jl:395 [inlined]",
      " [16] dmrg(PH::ProjMPO, psi0::MPS, sweeps::Sweeps; which_decomp::Nothing, svd_alg::Nothing, observer::NoObserver, outputlevel::Int64, write_when_maxdim_exceeds::Nothing, write_path::String, eigsolve_tol::Float64, eigsolve_krylovdim::Int64, eigsolve_maxiter::Int64, eigsolve_verbosity::Int64, eigsolve_which_eigenvalue::Symbol, ishermitian::Bool)",
      "    @ ITensors ~/.julia/packages/ITensors/WMeVS/src/mps/dmrg.jl:204",
      " [17] dmrg",
      "    @ ~/.julia/packages/ITensors/WMeVS/src/mps/dmrg.jl:156 [inlined]",
      " [18] #dmrg#1059",
      "    @ ~/.julia/packages/ITensors/WMeVS/src/mps/dmrg.jl:27 [inlined]",
      " [19] dmrg",
      "    @ ~/.julia/packages/ITensors/WMeVS/src/mps/dmrg.jl:20 [inlined]",
      " [20] #dmrg#1065",
      "    @ ~/.julia/packages/ITensors/WMeVS/src/mps/dmrg.jl:391 [inlined]",
      " [21] dmrg",
      "    @ ~/.julia/packages/ITensors/WMeVS/src/mps/dmrg.jl:381 [inlined]",
      " [22] dmrg_correlation_function(N::Int64, interaction_sign::String, g::Float64, lamX::Float64, lamY::Float64, lamZ::Float64, lamXX::Float64, lamYY::Float64, lamZZ::Float64, lamAD::Float64, nsweeps::Int64, maxdim::Vector{Int64}, cutoff::Vector{Float64}, psi0_bonddim::Int64)",
      "    @ Main ~/Documents/GitHub/ite-vs-noise/dmrg/dmrg_functions.jl:719"
     ]
    }
   ],
   "source": [
    "# The way function dmrg_correlation_function currently written, it should be applied \n",
    "# for N=800 sites (although that is straightforward to change in the code). \n",
    "# The calculation for this system size might take some time.\n",
    "\n",
    "# To see power-law decay (as in the paper), the correlation function should be computed\n",
    "# at the critical point that depends on the system size due to finite-size drift\n",
    "\n",
    "g=0.937\n",
    "N=800\n",
    "\n",
    "dmrg_correlation_function(\n",
    "    N,\n",
    "    interaction_sign,\n",
    "    g,\n",
    "    lamX,\n",
    "    lamY,\n",
    "    lamZ,\n",
    "    lamXX,\n",
    "    lamYY,\n",
    "    lamZZ,\n",
    "    lamAD,\n",
    "    nsweeps,\n",
    "    maxdim,\n",
    "    cutoff,\n",
    "    psi0_bonddim,\n",
    ")"
   ]
  },
  {
   "cell_type": "code",
   "execution_count": null,
   "id": "5156621a-6afa-435b-b184-6917b966ab3d",
   "metadata": {},
   "outputs": [],
   "source": []
  }
 ],
 "metadata": {
  "kernelspec": {
   "display_name": "Julia 1.10.1",
   "language": "julia",
   "name": "julia-1.10"
  },
  "language_info": {
   "file_extension": ".jl",
   "mimetype": "application/julia",
   "name": "julia",
   "version": "1.10.1"
  }
 },
 "nbformat": 4,
 "nbformat_minor": 5
}
